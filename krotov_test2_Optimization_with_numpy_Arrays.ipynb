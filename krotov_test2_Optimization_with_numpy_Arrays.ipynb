{
  "nbformat": 4,
  "nbformat_minor": 0,
  "metadata": {
    "colab": {
      "provenance": [],
      "authorship_tag": "ABX9TyMZq4gIOmfTRcgUFM+WCRGn",
      "include_colab_link": true
    },
    "kernelspec": {
      "name": "python3",
      "display_name": "Python 3"
    },
    "language_info": {
      "name": "python"
    }
  },
  "cells": [
    {
      "cell_type": "markdown",
      "metadata": {
        "id": "view-in-github",
        "colab_type": "text"
      },
      "source": [
        "<a href=\"https://colab.research.google.com/github/itshimanshu2602/Krotov_Test_Optimization-with-numpy-Arrays/blob/main/krotov_test2_Optimization_with_numpy_Arrays.ipynb\" target=\"_parent\"><img src=\"https://colab.research.google.com/assets/colab-badge.svg\" alt=\"Open In Colab\"/></a>"
      ]
    },
    {
      "cell_type": "code",
      "execution_count": 1,
      "metadata": {
        "colab": {
          "base_uri": "https://localhost:8080/"
        },
        "id": "BOe5ZR4s_DNn",
        "outputId": "44e85938-bd3d-47ae-c2ff-fedd68089d9e"
      },
      "outputs": [
        {
          "output_type": "stream",
          "name": "stdout",
          "text": [
            "Collecting qutip\n",
            "  Downloading qutip-5.0.4-cp310-cp310-manylinux_2_17_x86_64.manylinux2014_x86_64.whl.metadata (9.2 kB)\n",
            "Requirement already satisfied: numpy>=1.22 in /usr/local/lib/python3.10/dist-packages (from qutip) (1.26.4)\n",
            "Requirement already satisfied: scipy>=1.9 in /usr/local/lib/python3.10/dist-packages (from qutip) (1.13.1)\n",
            "Requirement already satisfied: packaging in /usr/local/lib/python3.10/dist-packages (from qutip) (24.1)\n",
            "Downloading qutip-5.0.4-cp310-cp310-manylinux_2_17_x86_64.manylinux2014_x86_64.whl (28.0 MB)\n",
            "\u001b[2K   \u001b[90m━━━━━━━━━━━━━━━━━━━━━━━━━━━━━━━━━━━━━━━━\u001b[0m \u001b[32m28.0/28.0 MB\u001b[0m \u001b[31m27.9 MB/s\u001b[0m eta \u001b[36m0:00:00\u001b[0m\n",
            "\u001b[?25hInstalling collected packages: qutip\n",
            "Successfully installed qutip-5.0.4\n"
          ]
        }
      ],
      "source": [
        "pip install qutip"
      ]
    },
    {
      "cell_type": "code",
      "source": [
        "pip install krotov"
      ],
      "metadata": {
        "colab": {
          "base_uri": "https://localhost:8080/"
        },
        "id": "eTNSvzhs_fWF",
        "outputId": "76b0e1d4-72ce-4e01-9bd8-d30aa1264687"
      },
      "execution_count": 2,
      "outputs": [
        {
          "output_type": "stream",
          "name": "stdout",
          "text": [
            "Collecting krotov\n",
            "  Downloading krotov-1.3.0-py3-none-any.whl.metadata (8.1 kB)\n",
            "Collecting glom (from krotov)\n",
            "  Downloading glom-24.11.0-py3-none-any.whl.metadata (5.1 kB)\n",
            "Collecting grapheme (from krotov)\n",
            "  Downloading grapheme-0.6.0.tar.gz (207 kB)\n",
            "\u001b[2K     \u001b[90m━━━━━━━━━━━━━━━━━━━━━━━━━━━━━━━━━━━━━━━━\u001b[0m \u001b[32m207.3/207.3 kB\u001b[0m \u001b[31m4.2 MB/s\u001b[0m eta \u001b[36m0:00:00\u001b[0m\n",
            "\u001b[?25h  Preparing metadata (setup.py) ... \u001b[?25l\u001b[?25hdone\n",
            "Requirement already satisfied: numpy in /usr/local/lib/python3.10/dist-packages (from krotov) (1.26.4)\n",
            "Collecting qutip<5.0,>=4.3.1 (from krotov)\n",
            "  Downloading qutip-4.7.6-cp310-cp310-manylinux_2_17_x86_64.manylinux2014_x86_64.whl.metadata (7.7 kB)\n",
            "Requirement already satisfied: scipy in /usr/local/lib/python3.10/dist-packages (from krotov) (1.13.1)\n",
            "Requirement already satisfied: threadpoolctl in /usr/local/lib/python3.10/dist-packages (from krotov) (3.5.0)\n",
            "Collecting scipy (from krotov)\n",
            "  Downloading scipy-1.12.0-cp310-cp310-manylinux_2_17_x86_64.manylinux2014_x86_64.whl.metadata (60 kB)\n",
            "\u001b[2K     \u001b[90m━━━━━━━━━━━━━━━━━━━━━━━━━━━━━━━━━━━━━━━━\u001b[0m \u001b[32m60.4/60.4 kB\u001b[0m \u001b[31m4.8 MB/s\u001b[0m eta \u001b[36m0:00:00\u001b[0m\n",
            "\u001b[?25hRequirement already satisfied: packaging in /usr/local/lib/python3.10/dist-packages (from qutip<5.0,>=4.3.1->krotov) (24.1)\n",
            "Collecting boltons>=19.3.0 (from glom->krotov)\n",
            "  Downloading boltons-24.1.0-py3-none-any.whl.metadata (1.5 kB)\n",
            "Requirement already satisfied: attrs in /usr/local/lib/python3.10/dist-packages (from glom->krotov) (24.2.0)\n",
            "Collecting face>=20.1.1 (from glom->krotov)\n",
            "  Downloading face-24.0.0-py3-none-any.whl.metadata (1.1 kB)\n",
            "Downloading krotov-1.3.0-py3-none-any.whl (73 kB)\n",
            "\u001b[2K   \u001b[90m━━━━━━━━━━━━━━━━━━━━━━━━━━━━━━━━━━━━━━━━\u001b[0m \u001b[32m73.9/73.9 kB\u001b[0m \u001b[31m6.5 MB/s\u001b[0m eta \u001b[36m0:00:00\u001b[0m\n",
            "\u001b[?25hDownloading qutip-4.7.6-cp310-cp310-manylinux_2_17_x86_64.manylinux2014_x86_64.whl (16.3 MB)\n",
            "\u001b[2K   \u001b[90m━━━━━━━━━━━━━━━━━━━━━━━━━━━━━━━━━━━━━━━━\u001b[0m \u001b[32m16.3/16.3 MB\u001b[0m \u001b[31m68.0 MB/s\u001b[0m eta \u001b[36m0:00:00\u001b[0m\n",
            "\u001b[?25hDownloading scipy-1.12.0-cp310-cp310-manylinux_2_17_x86_64.manylinux2014_x86_64.whl (38.4 MB)\n",
            "\u001b[2K   \u001b[90m━━━━━━━━━━━━━━━━━━━━━━━━━━━━━━━━━━━━━━━━\u001b[0m \u001b[32m38.4/38.4 MB\u001b[0m \u001b[31m14.5 MB/s\u001b[0m eta \u001b[36m0:00:00\u001b[0m\n",
            "\u001b[?25hDownloading glom-24.11.0-py3-none-any.whl (102 kB)\n",
            "\u001b[2K   \u001b[90m━━━━━━━━━━━━━━━━━━━━━━━━━━━━━━━━━━━━━━━━\u001b[0m \u001b[32m102.7/102.7 kB\u001b[0m \u001b[31m8.7 MB/s\u001b[0m eta \u001b[36m0:00:00\u001b[0m\n",
            "\u001b[?25hDownloading boltons-24.1.0-py3-none-any.whl (192 kB)\n",
            "\u001b[2K   \u001b[90m━━━━━━━━━━━━━━━━━━━━━━━━━━━━━━━━━━━━━━━━\u001b[0m \u001b[32m192.2/192.2 kB\u001b[0m \u001b[31m15.8 MB/s\u001b[0m eta \u001b[36m0:00:00\u001b[0m\n",
            "\u001b[?25hDownloading face-24.0.0-py3-none-any.whl (54 kB)\n",
            "\u001b[2K   \u001b[90m━━━━━━━━━━━━━━━━━━━━━━━━━━━━━━━━━━━━━━━━\u001b[0m \u001b[32m54.7/54.7 kB\u001b[0m \u001b[31m4.5 MB/s\u001b[0m eta \u001b[36m0:00:00\u001b[0m\n",
            "\u001b[?25hBuilding wheels for collected packages: grapheme\n",
            "  Building wheel for grapheme (setup.py) ... \u001b[?25l\u001b[?25hdone\n",
            "  Created wheel for grapheme: filename=grapheme-0.6.0-py3-none-any.whl size=210082 sha256=0598075f13e99b60db2e1ec6de890e91ac22cb987053f157e8d6301693756f8e\n",
            "  Stored in directory: /root/.cache/pip/wheels/01/e1/49/37e6bde9886439057450c494a79b0bef8bbe897a54aebfc757\n",
            "Successfully built grapheme\n",
            "Installing collected packages: grapheme, scipy, boltons, qutip, face, glom, krotov\n",
            "  Attempting uninstall: scipy\n",
            "    Found existing installation: scipy 1.13.1\n",
            "    Uninstalling scipy-1.13.1:\n",
            "      Successfully uninstalled scipy-1.13.1\n",
            "  Attempting uninstall: qutip\n",
            "    Found existing installation: qutip 5.0.4\n",
            "    Uninstalling qutip-5.0.4:\n",
            "      Successfully uninstalled qutip-5.0.4\n",
            "Successfully installed boltons-24.1.0 face-24.0.0 glom-24.11.0 grapheme-0.6.0 krotov-1.3.0 qutip-4.7.6 scipy-1.12.0\n"
          ]
        }
      ]
    },
    {
      "cell_type": "code",
      "source": [
        "pip install cython numpy"
      ],
      "metadata": {
        "colab": {
          "base_uri": "https://localhost:8080/"
        },
        "id": "yl4KLi7F_qzn",
        "outputId": "02034c36-096d-4c78-d44f-0e1d6e74c8c4"
      },
      "execution_count": 3,
      "outputs": [
        {
          "output_type": "stream",
          "name": "stdout",
          "text": [
            "Requirement already satisfied: cython in /usr/local/lib/python3.10/dist-packages (3.0.11)\n",
            "Requirement already satisfied: numpy in /usr/local/lib/python3.10/dist-packages (1.26.4)\n"
          ]
        }
      ]
    },
    {
      "cell_type": "code",
      "source": [
        "pip install watermark"
      ],
      "metadata": {
        "colab": {
          "base_uri": "https://localhost:8080/"
        },
        "id": "Un_NeSyD_yZY",
        "outputId": "5cbd97ba-f395-404f-e5ce-c4334269fb75"
      },
      "execution_count": 4,
      "outputs": [
        {
          "output_type": "stream",
          "name": "stdout",
          "text": [
            "Collecting watermark\n",
            "  Downloading watermark-2.5.0-py2.py3-none-any.whl.metadata (1.4 kB)\n",
            "Requirement already satisfied: ipython>=6.0 in /usr/local/lib/python3.10/dist-packages (from watermark) (7.34.0)\n",
            "Requirement already satisfied: importlib-metadata>=1.4 in /usr/local/lib/python3.10/dist-packages (from watermark) (8.5.0)\n",
            "Requirement already satisfied: setuptools in /usr/local/lib/python3.10/dist-packages (from watermark) (75.1.0)\n",
            "Requirement already satisfied: zipp>=3.20 in /usr/local/lib/python3.10/dist-packages (from importlib-metadata>=1.4->watermark) (3.20.2)\n",
            "Collecting jedi>=0.16 (from ipython>=6.0->watermark)\n",
            "  Downloading jedi-0.19.1-py2.py3-none-any.whl.metadata (22 kB)\n",
            "Requirement already satisfied: decorator in /usr/local/lib/python3.10/dist-packages (from ipython>=6.0->watermark) (4.4.2)\n",
            "Requirement already satisfied: pickleshare in /usr/local/lib/python3.10/dist-packages (from ipython>=6.0->watermark) (0.7.5)\n",
            "Requirement already satisfied: traitlets>=4.2 in /usr/local/lib/python3.10/dist-packages (from ipython>=6.0->watermark) (5.7.1)\n",
            "Requirement already satisfied: prompt-toolkit!=3.0.0,!=3.0.1,<3.1.0,>=2.0.0 in /usr/local/lib/python3.10/dist-packages (from ipython>=6.0->watermark) (3.0.48)\n",
            "Requirement already satisfied: pygments in /usr/local/lib/python3.10/dist-packages (from ipython>=6.0->watermark) (2.18.0)\n",
            "Requirement already satisfied: backcall in /usr/local/lib/python3.10/dist-packages (from ipython>=6.0->watermark) (0.2.0)\n",
            "Requirement already satisfied: matplotlib-inline in /usr/local/lib/python3.10/dist-packages (from ipython>=6.0->watermark) (0.1.7)\n",
            "Requirement already satisfied: pexpect>4.3 in /usr/local/lib/python3.10/dist-packages (from ipython>=6.0->watermark) (4.9.0)\n",
            "Requirement already satisfied: parso<0.9.0,>=0.8.3 in /usr/local/lib/python3.10/dist-packages (from jedi>=0.16->ipython>=6.0->watermark) (0.8.4)\n",
            "Requirement already satisfied: ptyprocess>=0.5 in /usr/local/lib/python3.10/dist-packages (from pexpect>4.3->ipython>=6.0->watermark) (0.7.0)\n",
            "Requirement already satisfied: wcwidth in /usr/local/lib/python3.10/dist-packages (from prompt-toolkit!=3.0.0,!=3.0.1,<3.1.0,>=2.0.0->ipython>=6.0->watermark) (0.2.13)\n",
            "Downloading watermark-2.5.0-py2.py3-none-any.whl (7.7 kB)\n",
            "Downloading jedi-0.19.1-py2.py3-none-any.whl (1.6 MB)\n",
            "\u001b[2K   \u001b[90m━━━━━━━━━━━━━━━━━━━━━━━━━━━━━━━━━━━━━━━━\u001b[0m \u001b[32m1.6/1.6 MB\u001b[0m \u001b[31m19.0 MB/s\u001b[0m eta \u001b[36m0:00:00\u001b[0m\n",
            "\u001b[?25hInstalling collected packages: jedi, watermark\n",
            "Successfully installed jedi-0.19.1 watermark-2.5.0\n"
          ]
        }
      ]
    },
    {
      "cell_type": "code",
      "source": [
        "# NBVAL_IGNORE_OUTPUT\n",
        "%load_ext watermark\n",
        "import numpy as np\n",
        "import scipy\n",
        "import matplotlib\n",
        "import matplotlib.pylab as plt\n",
        "import krotov\n",
        "# note that qutip is NOT imported\n",
        "%watermark -v --iversions"
      ],
      "metadata": {
        "colab": {
          "base_uri": "https://localhost:8080/"
        },
        "id": "bRmUJA9I_5z-",
        "outputId": "13ad8159-ae16-46b8-d7bf-1cf599003805"
      },
      "execution_count": 5,
      "outputs": [
        {
          "output_type": "stream",
          "name": "stderr",
          "text": [
            "/usr/local/lib/python3.10/dist-packages/qutip/__init__.py:66: UserWarning: The new version of Cython, (>= 3.0.0) is not supported.\n",
            "  warnings.warn(\n"
          ]
        },
        {
          "output_type": "stream",
          "name": "stdout",
          "text": [
            "Python implementation: CPython\n",
            "Python version       : 3.10.12\n",
            "IPython version      : 7.34.0\n",
            "\n",
            "matplotlib: 3.8.0\n",
            "krotov    : 1.3.0\n",
            "numpy     : 1.26.4\n",
            "scipy     : 1.12.0\n",
            "\n"
          ]
        }
      ]
    },
    {
      "cell_type": "code",
      "source": [
        "def hamiltonian(omega=1.0, ampl0=0.2):\n",
        "    \"\"\"Two-level-system Hamiltonian\n",
        "\n",
        "    Args:\n",
        "        omega (float): energy separation of the qubit levels\n",
        "        ampl0 (float): constant amplitude of the driving field\n",
        "    \"\"\"\n",
        "    H0 = -0.5 * omega * np.array([[1, 0], [0, -1]], dtype=np.complex128)\n",
        "    H1 = np.array([[0, 1], [1, 0]], dtype=np.complex128)\n",
        "\n",
        "    def guess_control(t, args):\n",
        "        return ampl0 * krotov.shapes.flattop(\n",
        "            t, t_start=0, t_stop=5, t_rise=0.3, func=\"blackman\"\n",
        "        )\n",
        "\n",
        "    return [H0, [H1, guess_control]]\n"
      ],
      "metadata": {
        "id": "Kmkrte1aAZGv"
      },
      "execution_count": 6,
      "outputs": []
    },
    {
      "cell_type": "code",
      "source": [
        "H = hamiltonian()"
      ],
      "metadata": {
        "id": "6D3izc_dBA7B"
      },
      "execution_count": 7,
      "outputs": []
    },
    {
      "cell_type": "code",
      "source": [
        "krotov.Objective.type_checking = False"
      ],
      "metadata": {
        "id": "Gu_o7LUbBE6f"
      },
      "execution_count": 8,
      "outputs": []
    },
    {
      "cell_type": "code",
      "source": [
        "ket0 = np.array([[1], [0]], dtype=np.complex128)\n",
        "ket1 = np.array([[0], [1]], dtype=np.complex128)"
      ],
      "metadata": {
        "id": "n52uB0phBG1O"
      },
      "execution_count": 9,
      "outputs": []
    },
    {
      "cell_type": "code",
      "source": [
        "objectives = [\n",
        "    krotov.Objective(initial_state=ket0, target=ket1, H=H)\n",
        "]\n",
        "\n",
        "objectives"
      ],
      "metadata": {
        "colab": {
          "base_uri": "https://localhost:8080/"
        },
        "id": "FPYi6UUbBIjU",
        "outputId": "447008af-641d-476f-f948-4e6def4f7625"
      },
      "execution_count": 10,
      "outputs": [
        {
          "output_type": "execute_result",
          "data": {
            "text/plain": [
              "[Objective[a₀[2,1] to a₁[2,1] via [a₂[2,2], [a₃[2,2], u₁(t)]]]]"
            ]
          },
          "metadata": {},
          "execution_count": 10
        }
      ]
    },
    {
      "cell_type": "code",
      "source": [
        "def expm(H, state, dt, c_ops=None, backwards=False, initialize=False):\n",
        "    eqm_factor = -1j  # factor in front of H on rhs of the equation of motion\n",
        "    if backwards:\n",
        "        eqm_factor = eqm_factor.conjugate()\n",
        "    A = eqm_factor * H[0]\n",
        "    for part in H[1:]:\n",
        "        A += (eqm_factor * part[1]) * part[0]\n",
        "    return scipy.linalg.expm(A * dt) @ state"
      ],
      "metadata": {
        "id": "xpxcwSLEBKpJ"
      },
      "execution_count": 11,
      "outputs": []
    },
    {
      "cell_type": "code",
      "source": [
        "proj0 = np.array([[1, 0],[0, 0]], dtype=np.complex128)\n",
        "proj1 = np.array([[0, 0],[0, 1]], dtype=np.complex128)"
      ],
      "metadata": {
        "id": "-MN2vlTABP6T"
      },
      "execution_count": 12,
      "outputs": []
    },
    {
      "cell_type": "code",
      "source": [
        "def expect(proj, state):\n",
        "    return complex(state.conj().T @ (proj @ state)).real"
      ],
      "metadata": {
        "id": "1bAbQ7KdBT0y"
      },
      "execution_count": 13,
      "outputs": []
    },
    {
      "cell_type": "code",
      "source": [
        "tlist = np.linspace(0, 5, 500)"
      ],
      "metadata": {
        "id": "5GmUIPLYBVeF"
      },
      "execution_count": 14,
      "outputs": []
    },
    {
      "cell_type": "code",
      "source": [
        "guess_dynamics = objectives[0].propagate(\n",
        "    tlist, propagator=expm, e_ops=[proj0, proj1], expect=expect\n",
        ")"
      ],
      "metadata": {
        "colab": {
          "base_uri": "https://localhost:8080/"
        },
        "id": "Ubm_mWe_BXcY",
        "outputId": "7d509f4e-99d1-4d7f-da48-06a04b946253"
      },
      "execution_count": 15,
      "outputs": [
        {
          "output_type": "stream",
          "name": "stderr",
          "text": [
            "<ipython-input-13-add2b7478d11>:2: DeprecationWarning: Conversion of an array with ndim > 0 to a scalar is deprecated, and will error in future. Ensure you extract a single element from your array before performing this operation. (Deprecated NumPy 1.25.)\n",
            "  return complex(state.conj().T @ (proj @ state)).real\n",
            "<ipython-input-13-add2b7478d11>:2: DeprecationWarning: Conversion of an array with ndim > 0 to a scalar is deprecated, and will error in future. Ensure you extract a single element from your array before performing this operation. (Deprecated NumPy 1.25.)\n",
            "  return complex(state.conj().T @ (proj @ state)).real\n"
          ]
        }
      ]
    },
    {
      "cell_type": "code",
      "source": [
        "def plot_population(result):\n",
        "    fig, ax = plt.subplots()\n",
        "    ax.plot(result.times, result.expect[0], label='0')\n",
        "    ax.plot(result.times, result.expect[1], label='1')\n",
        "    ax.legend()\n",
        "    ax.set_xlabel('time')\n",
        "    ax.set_ylabel('population')\n",
        "    plt.show(fig)"
      ],
      "metadata": {
        "id": "XpPkDmZPBayz"
      },
      "execution_count": 16,
      "outputs": []
    },
    {
      "cell_type": "code",
      "source": [
        "plot_population(guess_dynamics)"
      ],
      "metadata": {
        "colab": {
          "base_uri": "https://localhost:8080/",
          "height": 449
        },
        "id": "KwMF3RiBBdth",
        "outputId": "0d06ff75-55a3-478c-df11-9dfc42025dd4"
      },
      "execution_count": 17,
      "outputs": [
        {
          "output_type": "display_data",
          "data": {
            "text/plain": [
              "<Figure size 640x480 with 1 Axes>"
            ],
            "image/png": "[encoded data removed]"
          },
          "metadata": {}
        }
      ]
    },
    {
      "cell_type": "code",
      "source": [
        "def S(t):\n",
        "    \"\"\"Shape function for the field update\"\"\"\n",
        "    return krotov.shapes.flattop(\n",
        "        t, t_start=0, t_stop=5, t_rise=0.3, t_fall=0.3, func='blackman'\n",
        "    )"
      ],
      "metadata": {
        "id": "VisOpktfBg5C"
      },
      "execution_count": 18,
      "outputs": []
    },
    {
      "cell_type": "code",
      "source": [
        "pulse_options = {\n",
        "    H[1][1]: dict(lambda_a=5, update_shape=S)\n",
        "}"
      ],
      "metadata": {
        "id": "oLvCPewRBmaG"
      },
      "execution_count": 19,
      "outputs": []
    },
    {
      "cell_type": "code",
      "source": [
        "def mu(objectives, i_objective, pulses, pulses_mapping, i_pulse, time_index):\n",
        "    def _mu(state):\n",
        "        return H[1][0] @ state\n",
        "    return _mu"
      ],
      "metadata": {
        "id": "41ZpkBVjB2rG"
      },
      "execution_count": 20,
      "outputs": []
    },
    {
      "cell_type": "code",
      "source": [
        "def overlap(psi1, psi2):\n",
        "    return complex(psi1.conj().T @ psi2)"
      ],
      "metadata": {
        "id": "Sq5Kfr51B4LX"
      },
      "execution_count": 21,
      "outputs": []
    },
    {
      "cell_type": "code",
      "source": [
        "opt_result = krotov.optimize_pulses(\n",
        "    objectives,\n",
        "    pulse_options=pulse_options,\n",
        "    tlist=tlist,\n",
        "    propagator=expm,\n",
        "    chi_constructor=krotov.functionals.chis_ss,\n",
        "    info_hook=krotov.info_hooks.print_table(J_T=krotov.functionals.J_T_ss),\n",
        "    check_convergence=krotov.convergence.check_monotonic_error,\n",
        "    iter_stop=10,\n",
        "    norm=np.linalg.norm,\n",
        "    mu=mu,\n",
        "    overlap=overlap,\n",
        ")"
      ],
      "metadata": {
        "colab": {
          "base_uri": "https://localhost:8080/"
        },
        "id": "SfZ_w-nxB6bo",
        "outputId": "13c84251-f928-4c8e-c456-4edaf64f1788"
      },
      "execution_count": 22,
      "outputs": [
        {
          "output_type": "stream",
          "name": "stdout",
          "text": [
            "iter.      J_T    ∫gₐ(t)dt          J       ΔJ_T         ΔJ  secs\n",
            "0     9.51e-01    0.00e+00   9.51e-01        n/a        n/a     0\n",
            "1     9.24e-01    1.20e-02   9.36e-01  -2.71e-02  -1.50e-02     0\n"
          ]
        },
        {
          "output_type": "stream",
          "name": "stderr",
          "text": [
            "<ipython-input-21-4d475c76a89c>:2: DeprecationWarning: Conversion of an array with ndim > 0 to a scalar is deprecated, and will error in future. Ensure you extract a single element from your array before performing this operation. (Deprecated NumPy 1.25.)\n",
            "  return complex(psi1.conj().T @ psi2)\n"
          ]
        },
        {
          "output_type": "stream",
          "name": "stdout",
          "text": [
            "2     8.83e-01    1.83e-02   9.02e-01  -4.11e-02  -2.28e-02     0\n",
            "3     8.23e-01    2.71e-02   8.50e-01  -6.06e-02  -3.35e-02     0\n",
            "4     7.37e-01    3.84e-02   7.76e-01  -8.52e-02  -4.68e-02     0\n",
            "5     6.26e-01    5.07e-02   6.77e-01  -1.11e-01  -6.05e-02     0\n",
            "6     4.96e-01    6.04e-02   5.56e-01  -1.31e-01  -7.02e-02     0\n",
            "7     3.62e-01    6.30e-02   4.25e-01  -1.34e-01  -7.09e-02     0\n",
            "8     2.44e-01    5.65e-02   3.00e-01  -1.18e-01  -6.15e-02     0\n",
            "9     1.53e-01    4.39e-02   1.97e-01  -9.03e-02  -4.64e-02     0\n",
            "10    9.20e-02    3.02e-02   1.22e-01  -6.14e-02  -3.12e-02     0\n"
          ]
        }
      ]
    },
    {
      "cell_type": "code",
      "source": [
        "opt_result"
      ],
      "metadata": {
        "colab": {
          "base_uri": "https://localhost:8080/"
        },
        "id": "0IhYwxz-B8Cw",
        "outputId": "a5285de7-8d5b-4e45-a5fa-551ce2cbf175"
      },
      "execution_count": 23,
      "outputs": [
        {
          "output_type": "execute_result",
          "data": {
            "text/plain": [
              "Krotov Optimization Result\n",
              "--------------------------\n",
              "- Started at 2024-11-10 07:44:12\n",
              "- Number of objectives: 1\n",
              "- Number of iterations: 10\n",
              "- Reason for termination: Reached 10 iterations\n",
              "- Ended at 2024-11-10 07:44:13 (0:00:01)"
            ]
          },
          "metadata": {},
          "execution_count": 23
        }
      ]
    },
    {
      "cell_type": "code",
      "source": [],
      "metadata": {
        "id": "r9Vw7oOeB-4U"
      },
      "execution_count": null,
      "outputs": []
    }
  ]
}